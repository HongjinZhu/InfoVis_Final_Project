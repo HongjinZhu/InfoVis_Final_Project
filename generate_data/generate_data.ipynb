{
 "cells": [
  {
   "cell_type": "code",
   "execution_count": null,
   "id": "af1000ad",
   "metadata": {},
   "outputs": [],
   "source": [
    "import random\n",
    "import pandas as pd\n",
    "import numpy as np\n",
    "from copy import deepcopy\n",
    "import os"
   ]
  },
  {
   "cell_type": "code",
   "execution_count": null,
   "id": "69cfd34e",
   "metadata": {},
   "outputs": [],
   "source": [
    "df = pd.read_csv('cause_of_deaths.csv')\n",
    "df"
   ]
  },
  {
   "cell_type": "code",
   "execution_count": null,
   "id": "ae6cc6b5",
   "metadata": {},
   "outputs": [],
   "source": [
    "ndata = np.array(df)\n",
    "death = ndata.tolist()\n",
    "dea = []\n",
    "for d in death:\n",
    "    d = d[:3]\n",
    "    dea.append(d)\n",
    "print(len(dea))"
   ]
  },
  {
   "cell_type": "code",
   "execution_count": null,
   "id": "f5c9322c",
   "metadata": {},
   "outputs": [],
   "source": [
    "causes = df.columns.values.tolist()[3:]"
   ]
  },
  {
   "cell_type": "code",
   "execution_count": null,
   "id": "8bf1ca48",
   "metadata": {},
   "outputs": [],
   "source": [
    "s = []\n",
    "numRow = 0\n",
    "for d in range(len(dea)):\n",
    "    for c in causes:\n",
    "        newRow = dea[d]+[c]+[df.loc[d][c]]\n",
    "        numRow += 1\n",
    "        s.append(newRow)\n",
    "        print(newRow)\n",
    "print(numRow)\n"
   ]
  },
  {
   "cell_type": "code",
   "execution_count": null,
   "id": "a383591f",
   "metadata": {},
   "outputs": [],
   "source": [
    "new_df = pd.DataFrame(s,columns=['country','code','year','cause','deaths'])\n",
    "new_df"
   ]
  },
  {
   "cell_type": "code",
   "execution_count": null,
   "id": "08b97927",
   "metadata": {},
   "outputs": [],
   "source": [
    "new_df.to_csv('new_cod.csv',index=False)"
   ]
  },
  {
   "cell_type": "code",
   "execution_count": null,
   "id": "c33d0adb",
   "metadata": {},
   "outputs": [],
   "source": []
  }
 ],
 "metadata": {
  "kernelspec": {
   "display_name": "Python 3 (ipykernel)",
   "language": "python",
   "name": "python3"
  },
  "language_info": {
   "codemirror_mode": {
    "name": "ipython",
    "version": 3
   },
   "file_extension": ".py",
   "mimetype": "text/x-python",
   "name": "python",
   "nbconvert_exporter": "python",
   "pygments_lexer": "ipython3",
   "version": "3.9.12"
  }
 },
 "nbformat": 4,
 "nbformat_minor": 5
}
